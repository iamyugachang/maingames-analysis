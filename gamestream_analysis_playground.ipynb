{
  "nbformat": 4,
  "nbformat_minor": 0,
  "metadata": {
    "colab": {
      "name": "gamestream_analysis_playground",
      "provenance": [],
      "collapsed_sections": []
    },
    "kernelspec": {
      "name": "python3",
      "display_name": "Python 3"
    },
    "language_info": {
      "name": "python"
    }
  },
  "cells": [
    {
      "cell_type": "code",
      "metadata": {
        "colab": {
          "base_uri": "https://localhost:8080/",
          "height": 228
        },
        "id": "O-o6R9HfBgrT",
        "outputId": "05369b87-0290-415b-fb93-40d031672edd"
      },
      "source": [
        "import pandas as pd\n",
        "import numpy as np\n",
        "import matplotlib.pylab as plt\n",
        "data_source =  'drive/MyDrive/2021-General/maingames-analysis/data/Maingames_DS_dataset.csv'\n",
        "df = pd.read_csv(data_source, index_col=\"Unnamed: 0\")\n",
        "df.head(3)"
      ],
      "execution_count": 163,
      "outputs": [
        {
          "output_type": "execute_result",
          "data": {
            "text/html": [
              "<div>\n",
              "<style scoped>\n",
              "    .dataframe tbody tr th:only-of-type {\n",
              "        vertical-align: middle;\n",
              "    }\n",
              "\n",
              "    .dataframe tbody tr th {\n",
              "        vertical-align: top;\n",
              "    }\n",
              "\n",
              "    .dataframe thead th {\n",
              "        text-align: right;\n",
              "    }\n",
              "</style>\n",
              "<table border=\"1\" class=\"dataframe\">\n",
              "  <thead>\n",
              "    <tr style=\"text-align: right;\">\n",
              "      <th></th>\n",
              "      <th>Country</th>\n",
              "      <th>Gender</th>\n",
              "      <th>Game</th>\n",
              "      <th>Total Follower</th>\n",
              "      <th>Broadcast Hours</th>\n",
              "      <th>PaidStarPerWatchedHour</th>\n",
              "      <th>Character_Facet_Cont_Rigidity</th>\n",
              "      <th>Character_Facet_Cont_AchievementStriving</th>\n",
              "      <th>Personal_Values_Facet_Cont_Hedonism</th>\n",
              "      <th>Character_Facet_Cont_Dutifulness</th>\n",
              "      <th>Character_Cont_Conscientiousness</th>\n",
              "      <th>Character_Facet_Cont_Sympathy</th>\n",
              "      <th>Personal_Values_Facet_Cont_UniversalismTolerance</th>\n",
              "      <th>Temperament_Choleric</th>\n",
              "      <th>Self_Esteem_Cont_SEDiscrepancyResponsibility</th>\n",
              "      <th>Character_Facet_Cont_ArtisticInterests</th>\n",
              "      <th>Temperament_Sanguine</th>\n",
              "      <th>Character_Facet_Cont_Friendliness</th>\n",
              "      <th>Temperament_Diligent</th>\n",
              "      <th>Self_Esteem_Cont_SELevel</th>\n",
              "      <th>Character_Cont_Extraversion</th>\n",
              "      <th>Role_Director</th>\n",
              "      <th>Character_Facet_Cont_SelfConsciousness</th>\n",
              "      <th>Temperament_Energetic</th>\n",
              "      <th>Character_Facet_Cont_Adventurousness</th>\n",
              "      <th>Role_Craftsman</th>\n",
              "      <th>Self_Esteem_Cont_SELevelResponsibility</th>\n",
              "      <th>Self_Esteem_Cont_SEAspirationResponsibility</th>\n",
              "      <th>Role_Toastmaster</th>\n",
              "      <th>Personal_Values_Facet_Cont_PowerDominance</th>\n",
              "      <th>Role_Marshal</th>\n",
              "      <th>Self_Esteem_Cont_SELevelAchievements</th>\n",
              "      <th>Self_Esteem_Cont_SEDiscrepancySociability</th>\n",
              "      <th>Personal_Values_Cont_SelfEnhancement</th>\n",
              "      <th>Self_Esteem_Cont_SEAspiration</th>\n",
              "      <th>Role_Supplier</th>\n",
              "      <th>Character_Facet_Cont_Activity</th>\n",
              "      <th>Temperament_Stable</th>\n",
              "      <th>Personal_Values_Facet_Cont_PowerResources</th>\n",
              "      <th>Self_Esteem_Cont_SEDiscrepancyAchievements</th>\n",
              "      <th>...</th>\n",
              "      <th>Personal_Values_Facet_Cont_SecurityPersonal</th>\n",
              "      <th>Personal_Values_Facet_Cont_UniversalismConcern</th>\n",
              "      <th>Role_Advisor</th>\n",
              "      <th>Self_Esteem_Cont_SELevelOriginality</th>\n",
              "      <th>Role_Analyst</th>\n",
              "      <th>Personal_Values_Cont_SelfTranscendence</th>\n",
              "      <th>Personal_Values_Facet_Cont_Achievement</th>\n",
              "      <th>Character_Facet_Cont_Trust</th>\n",
              "      <th>Temperament_Unstable</th>\n",
              "      <th>Character_Cont_Agreeableness</th>\n",
              "      <th>Role_Inventor</th>\n",
              "      <th>Personal_Values_Facet_Cont_BenevolenceCaring</th>\n",
              "      <th>Personal_Values_Facet_Cont_BenevolenceDependability</th>\n",
              "      <th>Character_Facet_Cont_Vulnerability</th>\n",
              "      <th>Character_Facet_Cont_ExcitementSeeking</th>\n",
              "      <th>Role_Designer</th>\n",
              "      <th>Role_Deputy</th>\n",
              "      <th>Personal_Values_Cont_OpennessToChange</th>\n",
              "      <th>PaidStarPerWatchedHour.1</th>\n",
              "      <th>Character_Facet_Cont_Morality</th>\n",
              "      <th>Character_Facet_Cont_Depression</th>\n",
              "      <th>Role_Strategist</th>\n",
              "      <th>Role_Inspector</th>\n",
              "      <th>Self_Esteem_Cont_SEAspirationAppearance</th>\n",
              "      <th>Character_Facet_Cont_SelfDiscipline</th>\n",
              "      <th>Self_Esteem_Cont_SEDiscrepancyIntelligence</th>\n",
              "      <th>Role_Companion</th>\n",
              "      <th>Character_Facet_Cont_Cooperation</th>\n",
              "      <th>Role_Commander</th>\n",
              "      <th>Role_Activist</th>\n",
              "      <th>Personal_Values_Facet_Cont_UniversalismNature</th>\n",
              "      <th>Role_Charismatic</th>\n",
              "      <th>Personal_Values_Facet_Cont_Tradition</th>\n",
              "      <th>Self_Esteem_Cont_SELevelAppearance</th>\n",
              "      <th>Character_Facet_Cont_Assertiveness</th>\n",
              "      <th>Character_Facet_Cont_Cautiousness</th>\n",
              "      <th>Role_Curator</th>\n",
              "      <th>Personal_Values_Cont_Conservation</th>\n",
              "      <th>Self_Esteem_Cont_SELevelIntelligence</th>\n",
              "      <th>Temperament_Centric</th>\n",
              "    </tr>\n",
              "  </thead>\n",
              "  <tbody>\n",
              "    <tr>\n",
              "      <th>0</th>\n",
              "      <td>ID</td>\n",
              "      <td>Male</td>\n",
              "      <td>MLBB</td>\n",
              "      <td>96751</td>\n",
              "      <td>104</td>\n",
              "      <td>0.004113</td>\n",
              "      <td>0.663442</td>\n",
              "      <td>0.718679</td>\n",
              "      <td>0.288008</td>\n",
              "      <td>0.471456</td>\n",
              "      <td>0.522711</td>\n",
              "      <td>0.337836</td>\n",
              "      <td>0.554134</td>\n",
              "      <td>0.0</td>\n",
              "      <td>0.496688</td>\n",
              "      <td>0.504059</td>\n",
              "      <td>0.25</td>\n",
              "      <td>0.494384</td>\n",
              "      <td>0.125</td>\n",
              "      <td>0.462912</td>\n",
              "      <td>0.474577</td>\n",
              "      <td>0.679339</td>\n",
              "      <td>0.471482</td>\n",
              "      <td>0.125</td>\n",
              "      <td>0.544957</td>\n",
              "      <td>0.453882</td>\n",
              "      <td>0.679427</td>\n",
              "      <td>0.721495</td>\n",
              "      <td>0.530887</td>\n",
              "      <td>0.356304</td>\n",
              "      <td>0.620860</td>\n",
              "      <td>0.605858</td>\n",
              "      <td>0.473335</td>\n",
              "      <td>0.303076</td>\n",
              "      <td>0.881936</td>\n",
              "      <td>0.509514</td>\n",
              "      <td>0.691145</td>\n",
              "      <td>0.750</td>\n",
              "      <td>0.317289</td>\n",
              "      <td>0.544263</td>\n",
              "      <td>...</td>\n",
              "      <td>0.353928</td>\n",
              "      <td>0.477637</td>\n",
              "      <td>0.577660</td>\n",
              "      <td>0.728769</td>\n",
              "      <td>0.627180</td>\n",
              "      <td>0.275763</td>\n",
              "      <td>0.322608</td>\n",
              "      <td>0.45008</td>\n",
              "      <td>0.500</td>\n",
              "      <td>0.467756</td>\n",
              "      <td>0.705475</td>\n",
              "      <td>0.543155</td>\n",
              "      <td>0.244511</td>\n",
              "      <td>0.686694</td>\n",
              "      <td>0.554406</td>\n",
              "      <td>0.533952</td>\n",
              "      <td>0.516859</td>\n",
              "      <td>0.303909</td>\n",
              "      <td>0.004113</td>\n",
              "      <td>0.553544</td>\n",
              "      <td>0.771031</td>\n",
              "      <td>0.783868</td>\n",
              "      <td>0.670467</td>\n",
              "      <td>0.648751</td>\n",
              "      <td>0.518061</td>\n",
              "      <td>0.473907</td>\n",
              "      <td>0.541372</td>\n",
              "      <td>0.352032</td>\n",
              "      <td>0.449807</td>\n",
              "      <td>0.514417</td>\n",
              "      <td>0.523116</td>\n",
              "      <td>0.408444</td>\n",
              "      <td>0.318747</td>\n",
              "      <td>0.684412</td>\n",
              "      <td>0.494384</td>\n",
              "      <td>0.751974</td>\n",
              "      <td>0.524306</td>\n",
              "      <td>0.299052</td>\n",
              "      <td>0.803920</td>\n",
              "      <td>0.625</td>\n",
              "    </tr>\n",
              "    <tr>\n",
              "      <th>1</th>\n",
              "      <td>ID</td>\n",
              "      <td>Male</td>\n",
              "      <td>8 Ball Pool</td>\n",
              "      <td>4781</td>\n",
              "      <td>174</td>\n",
              "      <td>0.002855</td>\n",
              "      <td>0.543255</td>\n",
              "      <td>0.427887</td>\n",
              "      <td>0.430609</td>\n",
              "      <td>0.493514</td>\n",
              "      <td>0.348513</td>\n",
              "      <td>0.408481</td>\n",
              "      <td>0.610872</td>\n",
              "      <td>0.0</td>\n",
              "      <td>0.557879</td>\n",
              "      <td>0.577758</td>\n",
              "      <td>0.50</td>\n",
              "      <td>0.468738</td>\n",
              "      <td>0.250</td>\n",
              "      <td>0.386516</td>\n",
              "      <td>0.445183</td>\n",
              "      <td>0.381432</td>\n",
              "      <td>0.352964</td>\n",
              "      <td>0.000</td>\n",
              "      <td>0.604113</td>\n",
              "      <td>0.325222</td>\n",
              "      <td>0.743407</td>\n",
              "      <td>0.534425</td>\n",
              "      <td>0.349459</td>\n",
              "      <td>0.341675</td>\n",
              "      <td>0.486200</td>\n",
              "      <td>0.490160</td>\n",
              "      <td>0.579283</td>\n",
              "      <td>0.298714</td>\n",
              "      <td>0.860851</td>\n",
              "      <td>0.098237</td>\n",
              "      <td>0.554197</td>\n",
              "      <td>0.625</td>\n",
              "      <td>0.317427</td>\n",
              "      <td>0.583342</td>\n",
              "      <td>...</td>\n",
              "      <td>0.425649</td>\n",
              "      <td>0.456436</td>\n",
              "      <td>0.239550</td>\n",
              "      <td>0.771001</td>\n",
              "      <td>0.403616</td>\n",
              "      <td>0.264248</td>\n",
              "      <td>0.333644</td>\n",
              "      <td>0.50451</td>\n",
              "      <td>0.125</td>\n",
              "      <td>0.225692</td>\n",
              "      <td>0.718745</td>\n",
              "      <td>0.460678</td>\n",
              "      <td>0.276966</td>\n",
              "      <td>0.627786</td>\n",
              "      <td>0.511837</td>\n",
              "      <td>0.488030</td>\n",
              "      <td>0.263292</td>\n",
              "      <td>0.309062</td>\n",
              "      <td>0.002855</td>\n",
              "      <td>0.352700</td>\n",
              "      <td>0.462166</td>\n",
              "      <td>0.549318</td>\n",
              "      <td>0.397981</td>\n",
              "      <td>0.690168</td>\n",
              "      <td>0.442303</td>\n",
              "      <td>0.482889</td>\n",
              "      <td>0.230455</td>\n",
              "      <td>0.401419</td>\n",
              "      <td>0.277163</td>\n",
              "      <td>0.286003</td>\n",
              "      <td>0.444493</td>\n",
              "      <td>0.407624</td>\n",
              "      <td>0.382594</td>\n",
              "      <td>0.635493</td>\n",
              "      <td>0.468738</td>\n",
              "      <td>0.571198</td>\n",
              "      <td>0.100202</td>\n",
              "      <td>0.304527</td>\n",
              "      <td>0.751291</td>\n",
              "      <td>0.125</td>\n",
              "    </tr>\n",
              "    <tr>\n",
              "      <th>2</th>\n",
              "      <td>ID</td>\n",
              "      <td>Female</td>\n",
              "      <td>Free Fire - Battlegrounds</td>\n",
              "      <td>68246</td>\n",
              "      <td>83</td>\n",
              "      <td>0.003007</td>\n",
              "      <td>0.527279</td>\n",
              "      <td>0.399873</td>\n",
              "      <td>0.753009</td>\n",
              "      <td>0.472405</td>\n",
              "      <td>0.376854</td>\n",
              "      <td>0.518602</td>\n",
              "      <td>0.579433</td>\n",
              "      <td>0.5</td>\n",
              "      <td>0.395199</td>\n",
              "      <td>0.594752</td>\n",
              "      <td>0.00</td>\n",
              "      <td>0.413872</td>\n",
              "      <td>0.500</td>\n",
              "      <td>0.568077</td>\n",
              "      <td>0.322573</td>\n",
              "      <td>0.305979</td>\n",
              "      <td>0.750039</td>\n",
              "      <td>0.000</td>\n",
              "      <td>0.657773</td>\n",
              "      <td>0.784232</td>\n",
              "      <td>0.555626</td>\n",
              "      <td>0.568014</td>\n",
              "      <td>0.555618</td>\n",
              "      <td>0.362791</td>\n",
              "      <td>0.177483</td>\n",
              "      <td>0.189999</td>\n",
              "      <td>0.510046</td>\n",
              "      <td>0.231113</td>\n",
              "      <td>0.805830</td>\n",
              "      <td>0.360728</td>\n",
              "      <td>0.546109</td>\n",
              "      <td>0.000</td>\n",
              "      <td>0.216132</td>\n",
              "      <td>0.573285</td>\n",
              "      <td>...</td>\n",
              "      <td>0.355100</td>\n",
              "      <td>0.698604</td>\n",
              "      <td>0.490699</td>\n",
              "      <td>0.546902</td>\n",
              "      <td>0.610825</td>\n",
              "      <td>0.244235</td>\n",
              "      <td>0.287052</td>\n",
              "      <td>0.45850</td>\n",
              "      <td>0.500</td>\n",
              "      <td>0.368622</td>\n",
              "      <td>0.476994</td>\n",
              "      <td>0.464157</td>\n",
              "      <td>0.391603</td>\n",
              "      <td>0.636199</td>\n",
              "      <td>0.860169</td>\n",
              "      <td>0.715200</td>\n",
              "      <td>0.302466</td>\n",
              "      <td>0.295549</td>\n",
              "      <td>0.003007</td>\n",
              "      <td>0.657773</td>\n",
              "      <td>0.753035</td>\n",
              "      <td>0.437836</td>\n",
              "      <td>0.416392</td>\n",
              "      <td>0.850414</td>\n",
              "      <td>0.385781</td>\n",
              "      <td>0.354271</td>\n",
              "      <td>0.463357</td>\n",
              "      <td>0.335437</td>\n",
              "      <td>0.361047</td>\n",
              "      <td>0.401512</td>\n",
              "      <td>0.581657</td>\n",
              "      <td>0.443453</td>\n",
              "      <td>0.325263</td>\n",
              "      <td>0.398686</td>\n",
              "      <td>0.515929</td>\n",
              "      <td>0.309322</td>\n",
              "      <td>0.070988</td>\n",
              "      <td>0.305975</td>\n",
              "      <td>0.759900</td>\n",
              "      <td>0.000</td>\n",
              "    </tr>\n",
              "  </tbody>\n",
              "</table>\n",
              "<p>3 rows × 126 columns</p>\n",
              "</div>"
            ],
            "text/plain": [
              "  Country  Gender  ... Self_Esteem_Cont_SELevelIntelligence Temperament_Centric\n",
              "0      ID    Male  ...                             0.803920               0.625\n",
              "1      ID    Male  ...                             0.751291               0.125\n",
              "2      ID  Female  ...                             0.759900               0.000\n",
              "\n",
              "[3 rows x 126 columns]"
            ]
          },
          "metadata": {},
          "execution_count": 163
        }
      ]
    },
    {
      "cell_type": "markdown",
      "metadata": {
        "id": "x82mrbfcz5Ss"
      },
      "source": [
        "# Data clearning"
      ]
    },
    {
      "cell_type": "code",
      "metadata": {
        "id": "NWtq9oJ2z4f8"
      },
      "source": [
        "# Drop NA value (value = '-')\n",
        "df = df[df.Game != '-']\n",
        "df = df[df.Game != 'No MLBB Video']\n",
        "# Merge same game name\n",
        " # Arena of Valor\n",
        "df['Game'] = df['Game'].replace(['Garena Liên Quân Mobile','Liên Quân Mobile'],'Arena of Valor')\n",
        " # Age of Empires\n",
        "df['Game'] = df['Game'].replace(['Agge of Empires'],'Age of Empires')\n",
        " # Audition online\n",
        "df['Game'] = df['Game'].replace(['Audition'],'Audition Online')\n",
        "df['Game'] = df['Game'].replace(['Call of Duty: Mobile VN'],'Call of Duty: Mobile')\n",
        "df['Total Follower'] = df['Total Follower'].replace(['250,98'],25098)\n",
        "\n",
        "# change datatype\n",
        "df['Total Follower'] = pd.to_numeric(df['Total Follower'])\n",
        "\n",
        "# Other\n",
        "df['PaidStarPerWatchedHourPerFollower'] = df['PaidStarPerWatchedHour']/df['Total Follower']"
      ],
      "execution_count": 169,
      "outputs": []
    },
    {
      "cell_type": "code",
      "metadata": {
        "id": "0l92ZGTR9phE",
        "colab": {
          "base_uri": "https://localhost:8080/"
        },
        "outputId": "8ce90fe4-6329-4373-ec1b-74c9479231f3"
      },
      "source": [
        "# # Show all games\n",
        "# for game in df.groupby('Game').groups.keys():\n",
        "#   print(game)\n",
        "# df.groupby('Game').groups.keys()\n",
        "# df.groupby('Game').count().iloc[:,0].shape"
      ],
      "execution_count": 181,
      "outputs": [
        {
          "output_type": "execute_result",
          "data": {
            "text/plain": [
              "dict_keys(['8 Ball Pool', 'Age of Empires', 'Apex Legends', 'Arena of Valor', \"Assassin's Creed Odyssey\", 'Audition Online', 'Auto Chess', 'Blade & Soul', 'CABAL ONLINE', 'Call of Duty: Mobile', 'Call of Duty: Warzone', 'Coin Master', 'Counter-Strike: Global Offensive', 'Crazy Kart', 'Crossfire', 'Days Gone', 'Dead by Daylight', 'Dota 2', 'EA Sports UFC 3', 'Euro Truck Simulator 2', 'FIFA Online 4', \"Five Nights at Freddy's 2\", 'Free Fire - Battlegrounds', 'God of War', 'Grand Theft Auto V', 'Green Hell', 'Identity V', 'J-League Jikkyou Winning Eleven', 'League of Legends', 'League of Legends: Wild Rift', 'Little Big Snake', 'MLBB', 'MU Online', 'Minecraft', 'Moon of Madness', 'MotoGP', 'NBA 2K20', 'Naruto Shippuden: Ultimate Ninja Storm 4', 'Ngọc Rồng Online', 'PUBG', 'Persona 5 Royal', 'Point Blank Indonesia', 'RULES OF SURVIVAL', 'Ragnarok M: Eternal Love', 'Roblox', 'Sea of Thieves', 'Star Wars Jedi: Fallen Order', 'Teamfight Tactics', 'The Last of Us', 'The Last of Us: Part II', 'The Warriors', 'Township Mobile', 'Valorant', 'World War Z', 'Wormate.io', 'Worms Zone', 'Yakuza: Kiwami 2', 'eFootball PES 2020'])"
            ]
          },
          "metadata": {},
          "execution_count": 181
        }
      ]
    },
    {
      "cell_type": "code",
      "metadata": {
        "id": "04EXIS_c8Niw"
      },
      "source": [
        "# Generate game count\n",
        "df_game_count = df.groupby('Game').count().sort_values('Country', ascending=False).iloc[:, 0:1].rename(columns={'Country':'Count'})\n",
        "# df_game_count.head(10)"
      ],
      "execution_count": null,
      "outputs": []
    },
    {
      "cell_type": "markdown",
      "metadata": {
        "id": "seItpFrnup_r"
      },
      "source": [
        "# Check Per Followers"
      ]
    },
    {
      "cell_type": "code",
      "metadata": {
        "colab": {
          "base_uri": "https://localhost:8080/"
        },
        "id": "OoxcAsad19ce",
        "outputId": "5f6bd716-985f-41d0-e9b4-3e31ab13e948"
      },
      "source": [
        "cols = ['Total Follower','PaidStarPerWatchedHour'] # The columns you want to search for outliers in\n",
        "\n",
        "# Calculate quantiles and IQR\n",
        "Q1 = df[cols].quantile(0.25) # Same as np.percentile but maps (0,1) and not (0,100)\n",
        "Q3 = df[cols].quantile(0.75)\n",
        "IQR = Q3 - Q1\n",
        "\n",
        "# Return a boolean array of the rows with (any) non-outlier column values\n",
        "condition = ~((df[cols] < (Q1 - 1.5 * IQR)) | (df[cols] > (Q3 + 1.5 * IQR))).any(axis=1)\n",
        "\n",
        "# Filter our dataframe based on condition\n",
        "filtered_df = df[condition]\n",
        "filtered_df.shape"
      ],
      "execution_count": null,
      "outputs": [
        {
          "output_type": "execute_result",
          "data": {
            "text/plain": [
              "(491, 127)"
            ]
          },
          "metadata": {},
          "execution_count": 58
        }
      ]
    },
    {
      "cell_type": "code",
      "metadata": {
        "colab": {
          "base_uri": "https://localhost:8080/",
          "height": 308
        },
        "id": "yykloHEIpJ18",
        "outputId": "5fbc0715-b909-4966-e92e-a68467f63ad2"
      },
      "source": [
        "filtered_df[['Total Follower', 'PaidStarPerWatchedHourPerFollower']].plot(x='Total Follower', y='PaidStarPerWatchedHourPerFollower', grid=True, kind='scatter')"
      ],
      "execution_count": null,
      "outputs": [
        {
          "output_type": "execute_result",
          "data": {
            "text/plain": [
              "<matplotlib.axes._subplots.AxesSubplot at 0x7fc063fc52d0>"
            ]
          },
          "metadata": {},
          "execution_count": 60
        },
        {
          "output_type": "display_data",
          "data": {
            "image/png": "[encoded data removed]",
            "text/plain": [
              "<Figure size 432x288 with 1 Axes>"
            ]
          },
          "metadata": {
            "needs_background": "light"
          }
        }
      ]
    },
    {
      "cell_type": "code",
      "metadata": {
        "id": "7on_PO7p53f2"
      },
      "source": [
        "# select data of PaidStarPerWatchedHourPerFollower in Q3-Q4\n",
        "cols = ['PaidStarPerWatchedHourPerFollower']\n",
        "Q1 = df[cols].quantile(0.25)\n",
        "Q3 = df[cols].quantile(0.75)\n",
        "condition = (df[cols]>Q3).any(axis=1)\n",
        "df_filtered_by_PSPWPF = df[condition]"
      ],
      "execution_count": null,
      "outputs": []
    },
    {
      "cell_type": "code",
      "metadata": {
        "colab": {
          "base_uri": "https://localhost:8080/",
          "height": 400
        },
        "id": "tq1s2Zsc9oC9",
        "outputId": "3678aceb-08ae-4aed-964a-36257df378dc"
      },
      "source": [
        "c = df_filtered_by_PSPWPF.corr()\n",
        "c['PSPW_abs'] = c['PaidStarPerWatchedHour'].apply(lambda x: abs(x))\n",
        "c_rank = c[['PaidStarPerWatchedHour', 'PSPW_abs']].sort_values('PSPW_abs', ascending=False)[c['PSPW_abs'] > c['PSPW_abs'].mean()]\n",
        "c_rank = c_rank.iloc[3:]\n",
        "c_rank.head(10)"
      ],
      "execution_count": null,
      "outputs": [
        {
          "output_type": "stream",
          "name": "stderr",
          "text": [
            "/usr/local/lib/python3.7/dist-packages/ipykernel_launcher.py:3: UserWarning: Boolean Series key will be reindexed to match DataFrame index.\n",
            "  This is separate from the ipykernel package so we can avoid doing imports until\n"
          ]
        },
        {
          "output_type": "execute_result",
          "data": {
            "text/html": [
              "<div>\n",
              "<style scoped>\n",
              "    .dataframe tbody tr th:only-of-type {\n",
              "        vertical-align: middle;\n",
              "    }\n",
              "\n",
              "    .dataframe tbody tr th {\n",
              "        vertical-align: top;\n",
              "    }\n",
              "\n",
              "    .dataframe thead th {\n",
              "        text-align: right;\n",
              "    }\n",
              "</style>\n",
              "<table border=\"1\" class=\"dataframe\">\n",
              "  <thead>\n",
              "    <tr style=\"text-align: right;\">\n",
              "      <th></th>\n",
              "      <th>PaidStarPerWatchedHour</th>\n",
              "      <th>PSPW_abs</th>\n",
              "    </tr>\n",
              "  </thead>\n",
              "  <tbody>\n",
              "    <tr>\n",
              "      <th>Role_Philanthropist</th>\n",
              "      <td>-0.282005</td>\n",
              "      <td>0.282005</td>\n",
              "    </tr>\n",
              "    <tr>\n",
              "      <th>Role_Manager</th>\n",
              "      <td>-0.254636</td>\n",
              "      <td>0.254636</td>\n",
              "    </tr>\n",
              "    <tr>\n",
              "      <th>Character_Cont_Conscientiousness</th>\n",
              "      <td>-0.245829</td>\n",
              "      <td>0.245829</td>\n",
              "    </tr>\n",
              "    <tr>\n",
              "      <th>Character_Facet_Cont_AchievementStriving</th>\n",
              "      <td>-0.245191</td>\n",
              "      <td>0.245191</td>\n",
              "    </tr>\n",
              "    <tr>\n",
              "      <th>Role_Marshal</th>\n",
              "      <td>-0.237801</td>\n",
              "      <td>0.237801</td>\n",
              "    </tr>\n",
              "    <tr>\n",
              "      <th>Personal_Values_Facet_Cont_Hedonism</th>\n",
              "      <td>0.236380</td>\n",
              "      <td>0.236380</td>\n",
              "    </tr>\n",
              "    <tr>\n",
              "      <th>Character_Cont_Openness</th>\n",
              "      <td>-0.230269</td>\n",
              "      <td>0.230269</td>\n",
              "    </tr>\n",
              "    <tr>\n",
              "      <th>Role_Commander</th>\n",
              "      <td>-0.228296</td>\n",
              "      <td>0.228296</td>\n",
              "    </tr>\n",
              "    <tr>\n",
              "      <th>Character_Facet_Cont_Morality</th>\n",
              "      <td>0.221398</td>\n",
              "      <td>0.221398</td>\n",
              "    </tr>\n",
              "    <tr>\n",
              "      <th>Personal_Values_Facet_Cont_ConformityRules</th>\n",
              "      <td>-0.215039</td>\n",
              "      <td>0.215039</td>\n",
              "    </tr>\n",
              "  </tbody>\n",
              "</table>\n",
              "</div>"
            ],
            "text/plain": [
              "                                            PaidStarPerWatchedHour  PSPW_abs\n",
              "Role_Philanthropist                                      -0.282005  0.282005\n",
              "Role_Manager                                             -0.254636  0.254636\n",
              "Character_Cont_Conscientiousness                         -0.245829  0.245829\n",
              "Character_Facet_Cont_AchievementStriving                 -0.245191  0.245191\n",
              "Role_Marshal                                             -0.237801  0.237801\n",
              "Personal_Values_Facet_Cont_Hedonism                       0.236380  0.236380\n",
              "Character_Cont_Openness                                  -0.230269  0.230269\n",
              "Role_Commander                                           -0.228296  0.228296\n",
              "Character_Facet_Cont_Morality                             0.221398  0.221398\n",
              "Personal_Values_Facet_Cont_ConformityRules               -0.215039  0.215039"
            ]
          },
          "metadata": {},
          "execution_count": 99
        }
      ]
    },
    {
      "cell_type": "code",
      "metadata": {
        "id": "SIifrWyNACjU"
      },
      "source": [
        "import nltk\n",
        "from wordcloud import WordCloud\n",
        "from collections import Counter"
      ],
      "execution_count": null,
      "outputs": []
    },
    {
      "cell_type": "code",
      "metadata": {
        "colab": {
          "base_uri": "https://localhost:8080/",
          "height": 266
        },
        "id": "r5whf3dmAG21",
        "outputId": "3ab4140f-95ae-4156-e84a-06ab042d44bd"
      },
      "source": [
        "dictionary = {}\n",
        "for idx in c_rank.index:\n",
        "  key = idx.split('_')[-1]\n",
        "  if c_rank.loc[idx,'PaidStarPerWatchedHour']<0:\n",
        "    key = '~'+key\n",
        "  dictionary[key] = c_rank.loc[idx,'PSPW_abs']*1000\n",
        "dictionary\n",
        "wc = WordCloud(background_color='white',\n",
        "                         margin=2, \n",
        "                         max_words=200, \n",
        "                         width=1080, height=720, \n",
        "                         relative_scaling=0.5\n",
        "                         )\n",
        "wc.generate_from_frequencies(frequencies=dictionary)\n",
        "plt.axis('off')\n",
        "plt.imshow(wc)"
      ],
      "execution_count": null,
      "outputs": [
        {
          "output_type": "execute_result",
          "data": {
            "text/plain": [
              "<matplotlib.image.AxesImage at 0x7fc04d8cad50>"
            ]
          },
          "metadata": {},
          "execution_count": 111
        },
        {
          "output_type": "display_data",
          "data": {
            "image/png": "[encoded data removed]",
            "text/plain": [
              "<Figure size 432x288 with 1 Axes>"
            ]
          },
          "metadata": {
            "needs_background": "light"
          }
        }
      ]
    },
    {
      "cell_type": "markdown",
      "metadata": {
        "id": "nAUYxEKimtYa"
      },
      "source": [
        "# Correlation Matrix"
      ]
    },
    {
      "cell_type": "markdown",
      "metadata": {
        "id": "zaEY_i9Cu3NU"
      },
      "source": [
        "## General Data"
      ]
    },
    {
      "cell_type": "code",
      "metadata": {
        "id": "tITSdQFgm_Be"
      },
      "source": [
        "corr_matrix = df.corr()\n",
        "corr_matrix['PSPW_abs'] = corr_matrix['PaidStarPerWatchedHour'].apply(lambda x: abs(x))\n",
        "corr_core = corr_matrix[['PaidStarPerWatchedHour', 'PSPW_abs']]"
      ],
      "execution_count": 192,
      "outputs": []
    },
    {
      "cell_type": "code",
      "metadata": {
        "colab": {
          "base_uri": "https://localhost:8080/",
          "height": 363
        },
        "id": "5v3YMyXMnCKX",
        "outputId": "13b0926b-150c-4150-b8c6-94221e54a653"
      },
      "source": [
        "corr_core.sort_values('PSPW_abs', ascending=False).head(10)"
      ],
      "execution_count": 195,
      "outputs": [
        {
          "output_type": "execute_result",
          "data": {
            "text/html": [
              "<div>\n",
              "<style scoped>\n",
              "    .dataframe tbody tr th:only-of-type {\n",
              "        vertical-align: middle;\n",
              "    }\n",
              "\n",
              "    .dataframe tbody tr th {\n",
              "        vertical-align: top;\n",
              "    }\n",
              "\n",
              "    .dataframe thead th {\n",
              "        text-align: right;\n",
              "    }\n",
              "</style>\n",
              "<table border=\"1\" class=\"dataframe\">\n",
              "  <thead>\n",
              "    <tr style=\"text-align: right;\">\n",
              "      <th></th>\n",
              "      <th>PaidStarPerWatchedHour</th>\n",
              "      <th>PSPW_abs</th>\n",
              "    </tr>\n",
              "  </thead>\n",
              "  <tbody>\n",
              "    <tr>\n",
              "      <th>PaidStarPerWatchedHour</th>\n",
              "      <td>1.000000</td>\n",
              "      <td>1.000000</td>\n",
              "    </tr>\n",
              "    <tr>\n",
              "      <th>PaidStarPerWatchedHour.1</th>\n",
              "      <td>1.000000</td>\n",
              "      <td>1.000000</td>\n",
              "    </tr>\n",
              "    <tr>\n",
              "      <th>PaidStarPerWatchedHourPerFollower</th>\n",
              "      <td>0.945065</td>\n",
              "      <td>0.945065</td>\n",
              "    </tr>\n",
              "    <tr>\n",
              "      <th>Personal_Values_Facet_Cont_Hedonism</th>\n",
              "      <td>0.142095</td>\n",
              "      <td>0.142095</td>\n",
              "    </tr>\n",
              "    <tr>\n",
              "      <th>Role_Philanthropist</th>\n",
              "      <td>-0.140508</td>\n",
              "      <td>0.140508</td>\n",
              "    </tr>\n",
              "    <tr>\n",
              "      <th>Personal_Values_Facet_Cont_ConformityRules</th>\n",
              "      <td>-0.140314</td>\n",
              "      <td>0.140314</td>\n",
              "    </tr>\n",
              "    <tr>\n",
              "      <th>Character_Facet_Cont_AchievementStriving</th>\n",
              "      <td>-0.134136</td>\n",
              "      <td>0.134136</td>\n",
              "    </tr>\n",
              "    <tr>\n",
              "      <th>Role_Manager</th>\n",
              "      <td>-0.130683</td>\n",
              "      <td>0.130683</td>\n",
              "    </tr>\n",
              "    <tr>\n",
              "      <th>Character_Cont_Conscientiousness</th>\n",
              "      <td>-0.126654</td>\n",
              "      <td>0.126654</td>\n",
              "    </tr>\n",
              "    <tr>\n",
              "      <th>Role_Marshal</th>\n",
              "      <td>-0.116596</td>\n",
              "      <td>0.116596</td>\n",
              "    </tr>\n",
              "  </tbody>\n",
              "</table>\n",
              "</div>"
            ],
            "text/plain": [
              "                                            PaidStarPerWatchedHour  PSPW_abs\n",
              "PaidStarPerWatchedHour                                    1.000000  1.000000\n",
              "PaidStarPerWatchedHour.1                                  1.000000  1.000000\n",
              "PaidStarPerWatchedHourPerFollower                         0.945065  0.945065\n",
              "Personal_Values_Facet_Cont_Hedonism                       0.142095  0.142095\n",
              "Role_Philanthropist                                      -0.140508  0.140508\n",
              "Personal_Values_Facet_Cont_ConformityRules               -0.140314  0.140314\n",
              "Character_Facet_Cont_AchievementStriving                 -0.134136  0.134136\n",
              "Role_Manager                                             -0.130683  0.130683\n",
              "Character_Cont_Conscientiousness                         -0.126654  0.126654\n",
              "Role_Marshal                                             -0.116596  0.116596"
            ]
          },
          "metadata": {},
          "execution_count": 195
        }
      ]
    },
    {
      "cell_type": "markdown",
      "metadata": {
        "id": "y7FH4La_hWhZ"
      },
      "source": [
        "## Divide into several group: Country, Game, Genger"
      ]
    },
    {
      "cell_type": "code",
      "metadata": {
        "colab": {
          "base_uri": "https://localhost:8080/",
          "height": 424
        },
        "id": "9CAbdRBJhoW0",
        "outputId": "726a2483-00ca-4956-9426-6ae3bc297c35"
      },
      "source": [
        "# Distribution of VN, PUBG, Male\n",
        "vpm = df.loc[df['Game'] == 'PUBG'].loc[df['Country'] == 'VN'].loc[df['Gender'] == 'Male']\n",
        "test_corr = vpm.corr()\n",
        "test_corr['PSPW_abs'] = test_corr['PaidStarPerWatchedHour'].apply(lambda x: abs(x))\n",
        "test_corr = test_corr[['PaidStarPerWatchedHour', 'PSPW_abs']]\n",
        "test_corr"
      ],
      "execution_count": 220,
      "outputs": [
        {
          "output_type": "execute_result",
          "data": {
            "text/html": [
              "<div>\n",
              "<style scoped>\n",
              "    .dataframe tbody tr th:only-of-type {\n",
              "        vertical-align: middle;\n",
              "    }\n",
              "\n",
              "    .dataframe tbody tr th {\n",
              "        vertical-align: top;\n",
              "    }\n",
              "\n",
              "    .dataframe thead th {\n",
              "        text-align: right;\n",
              "    }\n",
              "</style>\n",
              "<table border=\"1\" class=\"dataframe\">\n",
              "  <thead>\n",
              "    <tr style=\"text-align: right;\">\n",
              "      <th></th>\n",
              "      <th>PaidStarPerWatchedHour</th>\n",
              "      <th>PSPW_abs</th>\n",
              "    </tr>\n",
              "  </thead>\n",
              "  <tbody>\n",
              "    <tr>\n",
              "      <th>Total Follower</th>\n",
              "      <td>-0.195180</td>\n",
              "      <td>0.195180</td>\n",
              "    </tr>\n",
              "    <tr>\n",
              "      <th>Broadcast Hours</th>\n",
              "      <td>0.220304</td>\n",
              "      <td>0.220304</td>\n",
              "    </tr>\n",
              "    <tr>\n",
              "      <th>PaidStarPerWatchedHour</th>\n",
              "      <td>1.000000</td>\n",
              "      <td>1.000000</td>\n",
              "    </tr>\n",
              "    <tr>\n",
              "      <th>Character_Facet_Cont_Rigidity</th>\n",
              "      <td>-0.099999</td>\n",
              "      <td>0.099999</td>\n",
              "    </tr>\n",
              "    <tr>\n",
              "      <th>Character_Facet_Cont_AchievementStriving</th>\n",
              "      <td>0.079238</td>\n",
              "      <td>0.079238</td>\n",
              "    </tr>\n",
              "    <tr>\n",
              "      <th>...</th>\n",
              "      <td>...</td>\n",
              "      <td>...</td>\n",
              "    </tr>\n",
              "    <tr>\n",
              "      <th>Role_Curator</th>\n",
              "      <td>0.174295</td>\n",
              "      <td>0.174295</td>\n",
              "    </tr>\n",
              "    <tr>\n",
              "      <th>Personal_Values_Cont_Conservation</th>\n",
              "      <td>0.126991</td>\n",
              "      <td>0.126991</td>\n",
              "    </tr>\n",
              "    <tr>\n",
              "      <th>Self_Esteem_Cont_SELevelIntelligence</th>\n",
              "      <td>0.114209</td>\n",
              "      <td>0.114209</td>\n",
              "    </tr>\n",
              "    <tr>\n",
              "      <th>Temperament_Centric</th>\n",
              "      <td>-0.020632</td>\n",
              "      <td>0.020632</td>\n",
              "    </tr>\n",
              "    <tr>\n",
              "      <th>PaidStarPerWatchedHourPerFollower</th>\n",
              "      <td>0.639993</td>\n",
              "      <td>0.639993</td>\n",
              "    </tr>\n",
              "  </tbody>\n",
              "</table>\n",
              "<p>123 rows × 2 columns</p>\n",
              "</div>"
            ],
            "text/plain": [
              "                                          PaidStarPerWatchedHour  PSPW_abs\n",
              "Total Follower                                         -0.195180  0.195180\n",
              "Broadcast Hours                                         0.220304  0.220304\n",
              "PaidStarPerWatchedHour                                  1.000000  1.000000\n",
              "Character_Facet_Cont_Rigidity                          -0.099999  0.099999\n",
              "Character_Facet_Cont_AchievementStriving                0.079238  0.079238\n",
              "...                                                          ...       ...\n",
              "Role_Curator                                            0.174295  0.174295\n",
              "Personal_Values_Cont_Conservation                       0.126991  0.126991\n",
              "Self_Esteem_Cont_SELevelIntelligence                    0.114209  0.114209\n",
              "Temperament_Centric                                    -0.020632  0.020632\n",
              "PaidStarPerWatchedHourPerFollower                       0.639993  0.639993\n",
              "\n",
              "[123 rows x 2 columns]"
            ]
          },
          "metadata": {},
          "execution_count": 220
        }
      ]
    },
    {
      "cell_type": "code",
      "metadata": {
        "colab": {
          "base_uri": "https://localhost:8080/",
          "height": 283
        },
        "id": "oaRDsCscstLx",
        "outputId": "f99cabbf-f165-4ea1-e15a-05ef09145c02"
      },
      "source": [
        "# select data of PaidStarPerWatchedHourPerFollower in Q3-Q4\n",
        "cols = ['PSPW_abs']\n",
        "Q3 = test_corr[cols].quantile(0.75)\n",
        "condition = (test_corr[cols]>Q3).any(axis=1)\n",
        "test_corr = test_corr[condition]\n",
        "test_corr = test_corr.sort_values('PSPW_abs',ascending= False).iloc[3:,1:]\n",
        "test_corr\n",
        "test_corr.head(5).plot(kind='barh')"
      ],
      "execution_count": 221,
      "outputs": [
        {
          "output_type": "execute_result",
          "data": {
            "text/plain": [
              "<matplotlib.axes._subplots.AxesSubplot at 0x7fc04b974890>"
            ]
          },
          "metadata": {},
          "execution_count": 221
        },
        {
          "output_type": "display_data",
          "data": {
            "image/png": "[encoded data removed]",
            "text/plain": [
              "<Figure size 432x288 with 1 Axes>"
            ]
          },
          "metadata": {
            "needs_background": "light"
          }
        }
      ]
    },
    {
      "cell_type": "code",
      "metadata": {
        "colab": {
          "base_uri": "https://localhost:8080/",
          "height": 424
        },
        "id": "D6CNb-8qtPZq",
        "outputId": "f07bee08-bc23-45a2-cccf-b7ac340a565d"
      },
      "source": [
        "# Distribution of VN, PUBG, Female\n",
        "vpf = df.loc[df['Game'] == 'PUBG'].loc[df['Country'] == 'VN'].loc[df['Gender'] == 'Female']\n",
        "test_corr_f = vpf.corr()\n",
        "test_corr_f['PSPW_abs'] = test_corr_f['PaidStarPerWatchedHour'].apply(lambda x: abs(x))\n",
        "test_corr_f = test_corr_f[['PaidStarPerWatchedHour', 'PSPW_abs']]\n",
        "test_corr_f"
      ],
      "execution_count": null,
      "outputs": [
        {
          "output_type": "execute_result",
          "data": {
            "text/html": [
              "<div>\n",
              "<style scoped>\n",
              "    .dataframe tbody tr th:only-of-type {\n",
              "        vertical-align: middle;\n",
              "    }\n",
              "\n",
              "    .dataframe tbody tr th {\n",
              "        vertical-align: top;\n",
              "    }\n",
              "\n",
              "    .dataframe thead th {\n",
              "        text-align: right;\n",
              "    }\n",
              "</style>\n",
              "<table border=\"1\" class=\"dataframe\">\n",
              "  <thead>\n",
              "    <tr style=\"text-align: right;\">\n",
              "      <th></th>\n",
              "      <th>PaidStarPerWatchedHour</th>\n",
              "      <th>PSPW_abs</th>\n",
              "    </tr>\n",
              "  </thead>\n",
              "  <tbody>\n",
              "    <tr>\n",
              "      <th>Total Follower</th>\n",
              "      <td>-0.160742</td>\n",
              "      <td>0.160742</td>\n",
              "    </tr>\n",
              "    <tr>\n",
              "      <th>Broadcast Hours</th>\n",
              "      <td>0.074013</td>\n",
              "      <td>0.074013</td>\n",
              "    </tr>\n",
              "    <tr>\n",
              "      <th>PaidStarPerWatchedHour</th>\n",
              "      <td>1.000000</td>\n",
              "      <td>1.000000</td>\n",
              "    </tr>\n",
              "    <tr>\n",
              "      <th>Character_Facet_Cont_Rigidity</th>\n",
              "      <td>-0.387625</td>\n",
              "      <td>0.387625</td>\n",
              "    </tr>\n",
              "    <tr>\n",
              "      <th>Character_Facet_Cont_AchievementStriving</th>\n",
              "      <td>0.008814</td>\n",
              "      <td>0.008814</td>\n",
              "    </tr>\n",
              "    <tr>\n",
              "      <th>...</th>\n",
              "      <td>...</td>\n",
              "      <td>...</td>\n",
              "    </tr>\n",
              "    <tr>\n",
              "      <th>Role_Curator</th>\n",
              "      <td>-0.200469</td>\n",
              "      <td>0.200469</td>\n",
              "    </tr>\n",
              "    <tr>\n",
              "      <th>Personal_Values_Cont_Conservation</th>\n",
              "      <td>-0.347054</td>\n",
              "      <td>0.347054</td>\n",
              "    </tr>\n",
              "    <tr>\n",
              "      <th>Self_Esteem_Cont_SELevelIntelligence</th>\n",
              "      <td>0.367693</td>\n",
              "      <td>0.367693</td>\n",
              "    </tr>\n",
              "    <tr>\n",
              "      <th>Temperament_Centric</th>\n",
              "      <td>0.172117</td>\n",
              "      <td>0.172117</td>\n",
              "    </tr>\n",
              "    <tr>\n",
              "      <th>PaidStarPerWatchedHourPerFollower</th>\n",
              "      <td>0.618702</td>\n",
              "      <td>0.618702</td>\n",
              "    </tr>\n",
              "  </tbody>\n",
              "</table>\n",
              "<p>123 rows × 2 columns</p>\n",
              "</div>"
            ],
            "text/plain": [
              "                                          PaidStarPerWatchedHour  PSPW_abs\n",
              "Total Follower                                         -0.160742  0.160742\n",
              "Broadcast Hours                                         0.074013  0.074013\n",
              "PaidStarPerWatchedHour                                  1.000000  1.000000\n",
              "Character_Facet_Cont_Rigidity                          -0.387625  0.387625\n",
              "Character_Facet_Cont_AchievementStriving                0.008814  0.008814\n",
              "...                                                          ...       ...\n",
              "Role_Curator                                           -0.200469  0.200469\n",
              "Personal_Values_Cont_Conservation                      -0.347054  0.347054\n",
              "Self_Esteem_Cont_SELevelIntelligence                    0.367693  0.367693\n",
              "Temperament_Centric                                     0.172117  0.172117\n",
              "PaidStarPerWatchedHourPerFollower                       0.618702  0.618702\n",
              "\n",
              "[123 rows x 2 columns]"
            ]
          },
          "metadata": {},
          "execution_count": 138
        }
      ]
    },
    {
      "cell_type": "code",
      "metadata": {
        "colab": {
          "base_uri": "https://localhost:8080/",
          "height": 320
        },
        "id": "HnYynSutJHII",
        "outputId": "bb45ba66-c845-485a-f6de-53a7a6553d98"
      },
      "source": [
        "# select data of PaidStarPerWatchedHourPerFollower in Q3-Q4\n",
        "cols = ['PSPW_abs']\n",
        "Q3 = test_corr_f[cols].quantile(0.75)\n",
        "condition = (test_corr_f[cols]>Q3).any(axis=1)\n",
        "test_corr_f = test_corr_f[condition]\n",
        "test_corr_f = test_corr_f.sort_values('PSPW_abs',ascending= False)[test_corr_f['PSPW_abs'] > test_corr_f['PSPW_abs'].mean()].iloc[3:,1:]\n",
        "test_corr_f.plot(kind='barh')"
      ],
      "execution_count": null,
      "outputs": [
        {
          "output_type": "stream",
          "name": "stderr",
          "text": [
            "/usr/local/lib/python3.7/dist-packages/ipykernel_launcher.py:6: UserWarning: Boolean Series key will be reindexed to match DataFrame index.\n",
            "  \n"
          ]
        },
        {
          "output_type": "execute_result",
          "data": {
            "text/plain": [
              "<matplotlib.axes._subplots.AxesSubplot at 0x7fc04ceafb10>"
            ]
          },
          "metadata": {},
          "execution_count": 139
        },
        {
          "output_type": "display_data",
          "data": {
            "image/png": "[encoded data removed]",
            "text/plain": [
              "<Figure size 432x288 with 1 Axes>"
            ]
          },
          "metadata": {
            "needs_background": "light"
          }
        }
      ]
    },
    {
      "cell_type": "code",
      "metadata": {
        "colab": {
          "base_uri": "https://localhost:8080/",
          "height": 375
        },
        "id": "5mD_LDdGZRgW",
        "outputId": "9e3274ad-eb55-4ee5-e7b0-ff1a53322899"
      },
      "source": [
        "# print(df.groupby('Country').mean()['PaidStarPerWatchedHour'])\n",
        "print(df.groupby('Country').mean()['PaidStarPerWatchedHour']/df.groupby('Country').count()['PaidStarPerWatchedHour'])\n",
        "(df.groupby('Country').mean()['PaidStarPerWatchedHour']/df.groupby('Country').count()['PaidStarPerWatchedHour']).plot(kind='barh')"
      ],
      "execution_count": 187,
      "outputs": [
        {
          "output_type": "stream",
          "name": "stdout",
          "text": [
            "Country\n",
            "ID    0.000022\n",
            "PH    0.000202\n",
            "VN    0.000025\n",
            "Name: PaidStarPerWatchedHour, dtype: float64\n"
          ]
        },
        {
          "output_type": "execute_result",
          "data": {
            "text/plain": [
              "<matplotlib.axes._subplots.AxesSubplot at 0x7fc04bce7410>"
            ]
          },
          "metadata": {},
          "execution_count": 187
        },
        {
          "output_type": "display_data",
          "data": {
            "image/png": "[encoded data removed]",
            "text/plain": [
              "<Figure size 432x288 with 1 Axes>"
            ]
          },
          "metadata": {
            "needs_background": "light"
          }
        }
      ]
    },
    {
      "cell_type": "code",
      "metadata": {
        "colab": {
          "base_uri": "https://localhost:8080/",
          "height": 283
        },
        "id": "ba8Wc_w5Oki6",
        "outputId": "b20e1a5b-e3f2-4429-babb-d8632be7bcae"
      },
      "source": [
        "df[df['Gender'] == 'Male'].groupby('Country').mean()['PaidStarPerWatchedHour'].plot(kind='barh')"
      ],
      "execution_count": null,
      "outputs": [
        {
          "output_type": "execute_result",
          "data": {
            "text/plain": [
              "<matplotlib.axes._subplots.AxesSubplot at 0x7fc04c3fdbd0>"
            ]
          },
          "metadata": {},
          "execution_count": 154
        },
        {
          "output_type": "display_data",
          "data": {
            "image/png": "[encoded data removed]",
            "text/plain": [
              "<Figure size 432x288 with 1 Axes>"
            ]
          },
          "metadata": {
            "needs_background": "light"
          }
        }
      ]
    },
    {
      "cell_type": "code",
      "metadata": {
        "colab": {
          "base_uri": "https://localhost:8080/",
          "height": 283
        },
        "id": "OAF8tdf4JNP3",
        "outputId": "ee1395ef-f6b5-4529-a494-503884f450c2"
      },
      "source": [
        "df[df['Gender'] == 'Female'].groupby('Country').mean()['PaidStarPerWatchedHour'].plot(kind='barh')"
      ],
      "execution_count": null,
      "outputs": [
        {
          "output_type": "execute_result",
          "data": {
            "text/plain": [
              "<matplotlib.axes._subplots.AxesSubplot at 0x7fc04c430a10>"
            ]
          },
          "metadata": {},
          "execution_count": 153
        },
        {
          "output_type": "display_data",
          "data": {
            "image/png": "[encoded data removed]",
            "text/plain": [
              "<Figure size 432x288 with 1 Axes>"
            ]
          },
          "metadata": {
            "needs_background": "light"
          }
        }
      ]
    },
    {
      "cell_type": "code",
      "metadata": {
        "colab": {
          "base_uri": "https://localhost:8080/",
          "height": 283
        },
        "id": "5Kq3U4vEL86r",
        "outputId": "62709c8c-83a6-4e83-fc1b-b09d6669670c"
      },
      "source": [
        "df.groupby('Gender').mean()['PaidStarPerWatchedHour'].plot(kind='barh')"
      ],
      "execution_count": null,
      "outputs": [
        {
          "output_type": "execute_result",
          "data": {
            "text/plain": [
              "<matplotlib.axes._subplots.AxesSubplot at 0x7fc04c750290>"
            ]
          },
          "metadata": {},
          "execution_count": 146
        },
        {
          "output_type": "display_data",
          "data": {
            "image/png": "[encoded data removed]",
            "text/plain": [
              "<Figure size 432x288 with 1 Axes>"
            ]
          },
          "metadata": {
            "needs_background": "light"
          }
        }
      ]
    },
    {
      "cell_type": "code",
      "metadata": {
        "colab": {
          "base_uri": "https://localhost:8080/",
          "height": 283
        },
        "id": "Y4Geo2VPNbHM",
        "outputId": "311f974b-de17-4e78-ec13-761162208b16"
      },
      "source": [
        "df[df['Country'] == 'PH'].groupby('Gender').mean()['PaidStarPerWatchedHour'].plot(kind='barh')"
      ],
      "execution_count": null,
      "outputs": [
        {
          "output_type": "execute_result",
          "data": {
            "text/plain": [
              "<matplotlib.axes._subplots.AxesSubplot at 0x7fc04c125690>"
            ]
          },
          "metadata": {},
          "execution_count": 160
        },
        {
          "output_type": "display_data",
          "data": {
            "image/png": "[encoded data removed]",
            "text/plain": [
              "<Figure size 432x288 with 1 Axes>"
            ]
          },
          "metadata": {
            "needs_background": "light"
          }
        }
      ]
    },
    {
      "cell_type": "code",
      "metadata": {
        "colab": {
          "base_uri": "https://localhost:8080/",
          "height": 357
        },
        "id": "OWktk0nmWKx5",
        "outputId": "c0071651-9676-4edb-90f5-9ffb37cbf190"
      },
      "source": [
        "print(df.groupby('Gender').mean()['PaidStarPerWatchedHour']/df.groupby('Gender').count()['PaidStarPerWatchedHour'])\n",
        "(df.groupby('Gender').mean()['PaidStarPerWatchedHour']/df.groupby('Gender').count()['PaidStarPerWatchedHour']).plot(kind='barh')"
      ],
      "execution_count": 190,
      "outputs": [
        {
          "output_type": "stream",
          "name": "stdout",
          "text": [
            "Gender\n",
            "Female    0.000183\n",
            "Male      0.000010\n",
            "Name: PaidStarPerWatchedHour, dtype: float64\n"
          ]
        },
        {
          "output_type": "execute_result",
          "data": {
            "text/plain": [
              "<matplotlib.axes._subplots.AxesSubplot at 0x7fc04bc5d090>"
            ]
          },
          "metadata": {},
          "execution_count": 190
        },
        {
          "output_type": "display_data",
          "data": {
            "image/png": "[encoded data removed]",
            "text/plain": [
              "<Figure size 432x288 with 1 Axes>"
            ]
          },
          "metadata": {
            "needs_background": "light"
          }
        }
      ]
    },
    {
      "cell_type": "code",
      "metadata": {
        "colab": {
          "base_uri": "https://localhost:8080/",
          "height": 283
        },
        "id": "rv3slB-LOyBz",
        "outputId": "a7fc7491-42cc-40f3-e111-91c1249d3d7f"
      },
      "source": [
        "df[df['Country'] == 'VN'].groupby('Gender').mean()['PaidStarPerWatchedHour'].plot(kind='barh')"
      ],
      "execution_count": null,
      "outputs": [
        {
          "output_type": "execute_result",
          "data": {
            "text/plain": [
              "<matplotlib.axes._subplots.AxesSubplot at 0x7fc04c302e10>"
            ]
          },
          "metadata": {},
          "execution_count": 156
        },
        {
          "output_type": "display_data",
          "data": {
            "image/png": "[encoded data removed]",
            "text/plain": [
              "<Figure size 432x288 with 1 Axes>"
            ]
          },
          "metadata": {
            "needs_background": "light"
          }
        }
      ]
    },
    {
      "cell_type": "code",
      "metadata": {
        "colab": {
          "base_uri": "https://localhost:8080/",
          "height": 283
        },
        "id": "uR65qLI1Oz7I",
        "outputId": "08107e8d-b7ce-4e52-8931-056536298683"
      },
      "source": [
        "df[df['Country'] == 'ID'].groupby('Gender').mean()['PaidStarPerWatchedHour'].plot(kind='barh')"
      ],
      "execution_count": null,
      "outputs": [
        {
          "output_type": "execute_result",
          "data": {
            "text/plain": [
              "<matplotlib.axes._subplots.AxesSubplot at 0x7fc04c2740d0>"
            ]
          },
          "metadata": {},
          "execution_count": 157
        },
        {
          "output_type": "display_data",
          "data": {
            "image/png": "[encoded data removed]",
            "text/plain": [
              "<Figure size 432x288 with 1 Axes>"
            ]
          },
          "metadata": {
            "needs_background": "light"
          }
        }
      ]
    },
    {
      "cell_type": "code",
      "metadata": {
        "id": "pOKGzTeWO3ws"
      },
      "source": [
        ""
      ],
      "execution_count": null,
      "outputs": []
    }
  ]
}